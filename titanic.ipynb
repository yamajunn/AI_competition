{
 "cells": [
  {
   "cell_type": "code",
   "execution_count": 24,
   "metadata": {},
   "outputs": [],
   "source": [
    "import numpy as np\n",
    "import pandas as pd\n",
    "import matplotlib.pyplot as plt\n",
    "import seaborn as sns\n",
    "from sklearn.feature_selection import SelectKBest\n",
    "from sklearn.model_selection import train_test_split"
   ]
  },
  {
   "cell_type": "code",
   "execution_count": 25,
   "metadata": {},
   "outputs": [
    {
     "name": "stdout",
     "output_type": "stream",
     "text": [
      "<class 'pandas.core.frame.DataFrame'>\n",
      "RangeIndex: 1309 entries, 0 to 1308\n",
      "Data columns (total 12 columns):\n",
      " #   Column       Non-Null Count  Dtype  \n",
      "---  ------       --------------  -----  \n",
      " 0   PassengerId  1309 non-null   int64  \n",
      " 1   Survived     891 non-null    float64\n",
      " 2   Pclass       1309 non-null   int64  \n",
      " 3   Name         1309 non-null   object \n",
      " 4   Sex          1309 non-null   object \n",
      " 5   Age          1046 non-null   float64\n",
      " 6   SibSp        1309 non-null   int64  \n",
      " 7   Parch        1309 non-null   int64  \n",
      " 8   Ticket       1309 non-null   object \n",
      " 9   Fare         1308 non-null   float64\n",
      " 10  Cabin        295 non-null    object \n",
      " 11  Embarked     1307 non-null   object \n",
      "dtypes: float64(3), int64(4), object(5)\n",
      "memory usage: 122.8+ KB\n"
     ]
    }
   ],
   "source": [
    "# データセットの読み込み\n",
    "train_data = pd.read_csv('./titanic/train.csv')\n",
    "test_data = pd.read_csv('./titanic/test.csv')\n",
    "\n",
    "# train_dataとtest_dataの連結\n",
    "test_data['Survived'] = np.nan\n",
    "df = pd.concat([train_data, test_data], ignore_index=True, sort=False)\n",
    "\n",
    "# dfの情報\n",
    "df.info()"
   ]
  },
  {
   "cell_type": "code",
   "execution_count": 26,
   "metadata": {},
   "outputs": [
    {
     "name": "stdout",
     "output_type": "stream",
     "text": [
      "<class 'pandas.core.frame.DataFrame'>\n",
      "RangeIndex: 1309 entries, 0 to 1308\n",
      "Data columns (total 12 columns):\n",
      " #   Column       Non-Null Count  Dtype  \n",
      "---  ------       --------------  -----  \n",
      " 0   PassengerId  1309 non-null   int64  \n",
      " 1   Survived     891 non-null    float64\n",
      " 2   Pclass       1309 non-null   int64  \n",
      " 3   Name         1309 non-null   object \n",
      " 4   Sex          1309 non-null   object \n",
      " 5   Age          1309 non-null   float64\n",
      " 6   SibSp        1309 non-null   int64  \n",
      " 7   Parch        1309 non-null   int64  \n",
      " 8   Ticket       1309 non-null   object \n",
      " 9   Fare         1308 non-null   float64\n",
      " 10  Cabin        295 non-null    object \n",
      " 11  Embarked     1307 non-null   object \n",
      "dtypes: float64(3), int64(4), object(5)\n",
      "memory usage: 122.8+ KB\n"
     ]
    }
   ],
   "source": [
    "# ------------ Age ------------\n",
    "# Age を Pclass, Sex, Parch, SibSp からランダムフォレストで推定\n",
    "from sklearn.ensemble import RandomForestRegressor\n",
    "\n",
    "# 推定に使用する項目を指定\n",
    "age_df = df[['Age', 'Pclass','Sex','Parch','SibSp']]\n",
    "\n",
    "# ラベル特徴量をワンホットエンコーディング\n",
    "age_df=pd.get_dummies(age_df)\n",
    "\n",
    "# 学習データとテストデータに分離し、numpyに変換\n",
    "known_age = age_df[age_df.Age.notnull()].values  \n",
    "unknown_age = age_df[age_df.Age.isnull()].values\n",
    "\n",
    "# 学習データをX, yに分離\n",
    "X = known_age[:, 1:]  \n",
    "y = known_age[:, 0]\n",
    "\n",
    "# ランダムフォレストで推定モデルを構築\n",
    "rfr = RandomForestRegressor(n_estimators=100, random_state=42, n_jobs=-1)\n",
    "rfr.fit(X, y)\n",
    "\n",
    "# 推定モデルを使って、テストデータのAgeを予測し、補完\n",
    "predictedAges = rfr.predict(unknown_age[:, 1:])\n",
    "df.loc[(df.Age.isnull()), 'Age'] = predictedAges\n",
    "\n",
    "df.info()"
   ]
  },
  {
   "cell_type": "code",
   "execution_count": 27,
   "metadata": {},
   "outputs": [
    {
     "name": "stderr",
     "output_type": "stream",
     "text": [
      "/var/folders/nz/pdh3wbl139nfbnd6j9xbwx300000gn/T/ipykernel_52691/1421303367.py:4: FutureWarning: A value is trying to be set on a copy of a DataFrame or Series through chained assignment using an inplace method.\n",
      "The behavior will change in pandas 3.0. This inplace method will never work because the intermediate object on which we are setting values always behaves as a copy.\n",
      "\n",
      "For example, when doing 'df[col].method(value, inplace=True)', try using 'df.method({col: value}, inplace=True)' or df[col] = df[col].method(value) instead, to perform the operation inplace on the original object.\n",
      "\n",
      "\n",
      "  df['Title'].replace(['Capt', 'Col', 'Major', 'Dr', 'Rev'], 'Officer', inplace=True)\n"
     ]
    }
   ],
   "source": [
    "# ------------ Name --------------\n",
    "# Nameから敬称(Title)を抽出し、グルーピング\n",
    "df['Title'] = df['Name'].map(lambda x: x.split(', ')[1].split('. ')[0])\n",
    "df['Title'].replace(['Capt', 'Col', 'Major', 'Dr', 'Rev'], 'Officer', inplace=True)\n",
    "df['Title'].replace(['Don', 'Sir',  'the Countess', 'Lady', 'Dona'], 'Royalty', inplace=True)\n",
    "df['Title'].replace(['Mme', 'Ms'], 'Mrs', inplace=True)\n",
    "df['Title'].replace(['Mlle'], 'Miss', inplace=True)\n",
    "df['Title'].replace(['Jonkheer'], 'Master', inplace=True)"
   ]
  },
  {
   "cell_type": "code",
   "execution_count": 28,
   "metadata": {},
   "outputs": [],
   "source": [
    "# ------------ Surname ------------\n",
    "# NameからSurname(苗字)を抽出\n",
    "df['Surname'] = df['Name'].map(lambda name:name.split(',')[0].strip())\n",
    "\n",
    "# 同じSurname(苗字)の出現頻度をカウント(出現回数が2以上なら家族)\n",
    "df['FamilyGroup'] = df['Surname'].map(df['Surname'].value_counts()) \n"
   ]
  },
  {
   "cell_type": "code",
   "execution_count": 29,
   "metadata": {},
   "outputs": [
    {
     "name": "stdout",
     "output_type": "stream",
     "text": [
      "Survived\n",
      "1.000000    113\n",
      "0.000000     32\n",
      "0.750000      2\n",
      "0.500000      1\n",
      "0.333333      1\n",
      "0.142857      1\n",
      "Name: count, dtype: int64\n"
     ]
    }
   ],
   "source": [
    "# 家族で16才以下または女性の生存率\n",
    "Female_Child_Group=df.loc[(df['FamilyGroup']>=2) & ((df['Age']<=16) | (df['Sex']=='female'))]\n",
    "Female_Child_Group=Female_Child_Group.groupby('Surname')['Survived'].mean()\n",
    "print(Female_Child_Group.value_counts())"
   ]
  },
  {
   "cell_type": "code",
   "execution_count": 30,
   "metadata": {},
   "outputs": [
    {
     "name": "stdout",
     "output_type": "stream",
     "text": [
      "Survived\n",
      "0.000000    115\n",
      "1.000000     21\n",
      "0.500000      6\n",
      "0.333333      2\n",
      "0.250000      1\n",
      "Name: count, dtype: int64\n"
     ]
    }
   ],
   "source": [
    "# 家族で16才超えかつ男性の生存率\n",
    "Male_Adult_Group=df.loc[(df['FamilyGroup']>=2) & (df['Age']>16) & (df['Sex']=='male')]\n",
    "Male_Adult_List=Male_Adult_Group.groupby('Surname')['Survived'].mean()\n",
    "print(Male_Adult_List.value_counts())"
   ]
  },
  {
   "cell_type": "code",
   "execution_count": 31,
   "metadata": {},
   "outputs": [
    {
     "name": "stdout",
     "output_type": "stream",
     "text": [
      "Dead_list =  {'Arnold-Franchi', 'Panula', 'Jussila', 'Oreskovic', 'Rice', 'Johnston', 'Turpin', 'Zabour', 'Van Impe', 'Lahtinen', 'Rosblom', 'Boulos', 'Ilmakangas', 'Attalah', 'Barbara', 'Lobb', 'Strom', 'Cacic', 'Palsson', 'Skoog', 'Elias', 'Lefebre', 'Ford', 'Olsson', 'Robins', 'Bourke', 'Caram', 'Vander Planke', 'Danbom', 'Sage', 'Goodwin', 'Canavan'}\n",
      "Survived_list =  {'Jussila', 'Kimball', 'Chambers', 'Frauenthal', 'Bradley', 'Dick', 'Duff Gordon', 'Goldenberg', 'Bishop', 'Nakid', 'McCoy', 'Jonsson', 'Moubarek', 'Harder', 'Frolicher-Stehli', 'Greenfield', 'Taylor', 'Beckwith', 'Beane', 'Daly', 'Cardeza'}\n"
     ]
    }
   ],
   "source": [
    "# デッドリストとサバイブリストの作成\n",
    "Dead_list=set(Female_Child_Group[Female_Child_Group.apply(lambda x:x==0)].index)\n",
    "Survived_list=set(Male_Adult_List[Male_Adult_List.apply(lambda x:x==1)].index)\n",
    "\n",
    "# デッドリストとサバイブリストの表示\n",
    "print('Dead_list = ', Dead_list)\n",
    "print('Survived_list = ', Survived_list)\n",
    "\n",
    "# デッドリストとサバイブリストをSex, Age, Title に反映させる\n",
    "df.loc[(df['Survived'].isnull()) & (df['Surname'].apply(lambda x:x in Dead_list)),\\\n",
    "             ['Sex','Age','Title']] = ['male',28.0,'Mr']\n",
    "df.loc[(df['Survived'].isnull()) & (df['Surname'].apply(lambda x:x in Survived_list)),\\\n",
    "             ['Sex','Age','Title']] = ['female',5.0,'Mrs']\n"
   ]
  },
  {
   "cell_type": "code",
   "execution_count": 32,
   "metadata": {},
   "outputs": [],
   "source": [
    "# ----------- Fare -------------\n",
    "# 欠損値を Embarked='S', Pclass=3 の平均値で補完\n",
    "fare=df.loc[(df['Embarked'] == 'S') & (df['Pclass'] == 3), 'Fare'].median()\n",
    "df['Fare']=df['Fare'].fillna(fare)\n"
   ]
  },
  {
   "cell_type": "code",
   "execution_count": 33,
   "metadata": {},
   "outputs": [],
   "source": [
    "# ----------- Family -------------\n",
    "# Family = SibSp + Parch + 1 を特徴量とし、グルーピング\n",
    "df['Family']=df['SibSp']+df['Parch']+1\n",
    "df.loc[(df['Family']>=2) & (df['Family']<=4), 'Family_label'] = 2\n",
    "df.loc[(df['Family']>=5) & (df['Family']<=7) | (df['Family']==1), 'Family_label'] = 1  # == に注意\n",
    "df.loc[(df['Family']>=8), 'Family_label'] = 0\n"
   ]
  },
  {
   "cell_type": "code",
   "execution_count": 34,
   "metadata": {},
   "outputs": [],
   "source": [
    "# ----------- Ticket ----------------\n",
    "# 同一Ticketナンバーの人が何人いるかを特徴量として抽出\n",
    "Ticket_Count = dict(df['Ticket'].value_counts())\n",
    "df['TicketGroup'] = df['Ticket'].map(Ticket_Count)"
   ]
  },
  {
   "cell_type": "code",
   "execution_count": 35,
   "metadata": {},
   "outputs": [],
   "source": [
    "# 生存率で3つにグルーピング\n",
    "df.loc[(df['TicketGroup']>=2) & (df['TicketGroup']<=4), 'Ticket_label'] = 2\n",
    "df.loc[(df['TicketGroup']>=5) & (df['TicketGroup']<=8) | (df['TicketGroup']==1), 'Ticket_label'] = 1  \n",
    "df.loc[(df['TicketGroup']>=11), 'Ticket_label'] = 0"
   ]
  },
  {
   "cell_type": "code",
   "execution_count": 36,
   "metadata": {},
   "outputs": [],
   "source": [
    "# ------------- Cabin ----------------\n",
    "# Cabinの先頭文字を特徴量とする(欠損値は U )\n",
    "df['Cabin'] = df['Cabin'].fillna('Unknown')\n",
    "df['Cabin_label']=df['Cabin'].str.get(0)\n"
   ]
  },
  {
   "cell_type": "code",
   "execution_count": 37,
   "metadata": {},
   "outputs": [],
   "source": [
    "# ---------- Embarked ---------------\n",
    "# 欠損値をSで補完\n",
    "df['Embarked'] = df['Embarked'].fillna('S') \n"
   ]
  },
  {
   "cell_type": "code",
   "execution_count": 38,
   "metadata": {},
   "outputs": [
    {
     "name": "stdout",
     "output_type": "stream",
     "text": [
      "<class 'pandas.core.frame.DataFrame'>\n",
      "RangeIndex: 1309 entries, 0 to 1308\n",
      "Data columns (total 20 columns):\n",
      " #   Column        Non-Null Count  Dtype  \n",
      "---  ------        --------------  -----  \n",
      " 0   PassengerId   1309 non-null   int64  \n",
      " 1   Survived      891 non-null    float64\n",
      " 2   Pclass        1309 non-null   int64  \n",
      " 3   Name          1309 non-null   object \n",
      " 4   Sex           1309 non-null   object \n",
      " 5   Age           1309 non-null   float64\n",
      " 6   SibSp         1309 non-null   int64  \n",
      " 7   Parch         1309 non-null   int64  \n",
      " 8   Ticket        1309 non-null   object \n",
      " 9   Fare          1309 non-null   float64\n",
      " 10  Cabin         1309 non-null   object \n",
      " 11  Embarked      1309 non-null   object \n",
      " 12  Title         1309 non-null   object \n",
      " 13  Surname       1309 non-null   object \n",
      " 14  FamilyGroup   1309 non-null   int64  \n",
      " 15  Family        1309 non-null   int64  \n",
      " 16  Family_label  1309 non-null   float64\n",
      " 17  TicketGroup   1309 non-null   int64  \n",
      " 18  Ticket_label  1309 non-null   float64\n",
      " 19  Cabin_label   1309 non-null   object \n",
      "dtypes: float64(5), int64(7), object(8)\n",
      "memory usage: 204.7+ KB\n"
     ]
    }
   ],
   "source": [
    "df.to_csv(\"./titanic/processed_data.csv\", index=False)\n",
    "\n",
    "df.info()"
   ]
  },
  {
   "cell_type": "code",
   "execution_count": 39,
   "metadata": {},
   "outputs": [],
   "source": [
    "# ------------- 前処理 ---------------\n",
    "# 推定に使用する項目を指定\n",
    "df = df[['Survived','Pclass','Sex','Age','Fare','Embarked','Title','Family_label','Cabin_label','Ticket_label']]\n",
    "\n",
    "# ラベル特徴量をワンホットエンコーディング\n",
    "df = pd.get_dummies(df)\n",
    "\n",
    "# データセットを trainとtestに分割\n",
    "train = df[df['Survived'].notnull()]\n",
    "test = df[df['Survived'].isnull()].drop('Survived',axis=1)\n",
    "\n",
    "# データフレームをnumpyに変換\n",
    "X = train.values[:,1:]  \n",
    "y = train.values[:,0] \n",
    "test_x = test.values\n"
   ]
  },
  {
   "cell_type": "code",
   "execution_count": 40,
   "metadata": {},
   "outputs": [
    {
     "name": "stdout",
     "output_type": "stream",
     "text": [
      "Selected features: Index(['Pclass', 'Age', 'Fare', 'Family_label', 'Ticket_label', 'Sex_female',\n",
      "       'Sex_male', 'Embarked_C', 'Embarked_S', 'Title_Master', 'Title_Miss',\n",
      "       'Title_Mr', 'Title_Mrs', 'Cabin_label_B', 'Cabin_label_C',\n",
      "       'Cabin_label_D', 'Cabin_label_E', 'Cabin_label_U'],\n",
      "      dtype='object')\n"
     ]
    }
   ],
   "source": [
    "# 特徴量選択のためにSelectKBestを使用\n",
    "selector = SelectKBest(k=18)\n",
    "selector.fit(X, y)\n",
    "\n",
    "# 選択された特徴量を取得\n",
    "selected_features = selector.get_support(indices=True)\n",
    "selected_feature_names = df.columns[1:][selected_features]\n",
    "\n",
    "print(\"Selected features:\", selected_feature_names)"
   ]
  },
  {
   "cell_type": "code",
   "execution_count": 41,
   "metadata": {},
   "outputs": [],
   "source": [
    "X_selected = selector.transform(X)\n",
    "y_class = y.astype(int)\n",
    "test_x_selected = selector.transform(test_x)"
   ]
  },
  {
   "cell_type": "code",
   "execution_count": 42,
   "metadata": {},
   "outputs": [],
   "source": [
    "X_train, X_test, y_train, y_test = train_test_split(X_selected, y_class, test_size=0.2, random_state=42)"
   ]
  },
  {
   "cell_type": "code",
   "execution_count": 43,
   "metadata": {},
   "outputs": [
    {
     "name": "stdout",
     "output_type": "stream",
     "text": [
      "Accuracy: 0.8156424581005587\n"
     ]
    }
   ],
   "source": [
    "from sklearn.ensemble import RandomForestClassifier\n",
    "\n",
    "# ランダムフォレストモデルのインスタンスを作成\n",
    "clf = RandomForestClassifier(n_estimators=100, random_state=42)\n",
    "\n",
    "# モデルを学習\n",
    "clf.fit(X_train, y_train)\n",
    "# モデルの精度を評価\n",
    "accuracy = clf.score(X_test, y_test)\n",
    "print(f\"Accuracy: {accuracy}\")\n",
    "\n",
    "# テストデータに対して予測\n",
    "predictions = clf.predict(test_x_selected)"
   ]
  },
  {
   "cell_type": "code",
   "execution_count": 44,
   "metadata": {},
   "outputs": [],
   "source": [
    "# import numpy as np\n",
    "# from tensorflow.keras.models import Sequential\n",
    "# from tensorflow.keras.layers import Dense, Dropout\n",
    "# from tensorflow.keras.optimizers import Adam\n",
    "\n",
    "# # データ型の変換\n",
    "# X_selected = np.array(X_selected, dtype=np.float32)\n",
    "# y_class = np.array(y_class, dtype=np.float32)\n",
    "# test_x_selected = np.array(test_x_selected, dtype=np.float32)\n",
    "# # モデルの構築\n",
    "# model = Sequential()\n",
    "# model.add(Dense(64, input_dim=X_selected.shape[1], activation='relu'))\n",
    "# model.add(Dropout(0.5))\n",
    "# model.add(Dense(32, activation='relu'))\n",
    "# model.add(Dropout(0.5))\n",
    "# model.add(Dense(1, activation='sigmoid'))\n",
    "\n",
    "# # モデルのコンパイル\n",
    "# model.compile(loss='binary_crossentropy', optimizer=Adam(), metrics=['accuracy'])\n",
    "\n",
    "# # モデルの学習\n",
    "# model.fit(X_selected, y_class, epochs=500, batch_size=32, validation_split=0.2)\n",
    "\n",
    "# # テストデータに対して予測\n",
    "# nn_predictions = model.predict(test_x_selected)\n",
    "# nn_predictions = (nn_predictions > 0.5).astype(int).flatten()\n",
    "\n",
    "# # モデルの精度を評価\n",
    "# loss, accuracy = model.evaluate(X_selected, y_class)\n",
    "# print(f\"Neural Network Accuracy: {accuracy}\")"
   ]
  },
  {
   "cell_type": "code",
   "execution_count": 45,
   "metadata": {},
   "outputs": [
    {
     "name": "stdout",
     "output_type": "stream",
     "text": [
      "<class 'pandas.core.frame.DataFrame'>\n",
      "RangeIndex: 1309 entries, 0 to 1308\n",
      "Data columns (total 26 columns):\n",
      " #   Column         Non-Null Count  Dtype  \n",
      "---  ------         --------------  -----  \n",
      " 0   Survived       891 non-null    float64\n",
      " 1   Pclass         1309 non-null   int64  \n",
      " 2   Age            1309 non-null   float64\n",
      " 3   Fare           1309 non-null   float64\n",
      " 4   Family_label   1309 non-null   float64\n",
      " 5   Ticket_label   1309 non-null   float64\n",
      " 6   Sex_female     1309 non-null   bool   \n",
      " 7   Sex_male       1309 non-null   bool   \n",
      " 8   Embarked_C     1309 non-null   bool   \n",
      " 9   Embarked_Q     1309 non-null   bool   \n",
      " 10  Embarked_S     1309 non-null   bool   \n",
      " 11  Title_Master   1309 non-null   bool   \n",
      " 12  Title_Miss     1309 non-null   bool   \n",
      " 13  Title_Mr       1309 non-null   bool   \n",
      " 14  Title_Mrs      1309 non-null   bool   \n",
      " 15  Title_Officer  1309 non-null   bool   \n",
      " 16  Title_Royalty  1309 non-null   bool   \n",
      " 17  Cabin_label_A  1309 non-null   bool   \n",
      " 18  Cabin_label_B  1309 non-null   bool   \n",
      " 19  Cabin_label_C  1309 non-null   bool   \n",
      " 20  Cabin_label_D  1309 non-null   bool   \n",
      " 21  Cabin_label_E  1309 non-null   bool   \n",
      " 22  Cabin_label_F  1309 non-null   bool   \n",
      " 23  Cabin_label_G  1309 non-null   bool   \n",
      " 24  Cabin_label_T  1309 non-null   bool   \n",
      " 25  Cabin_label_U  1309 non-null   bool   \n",
      "dtypes: bool(20), float64(5), int64(1)\n",
      "memory usage: 87.1 KB\n"
     ]
    }
   ],
   "source": [
    "df.info()"
   ]
  },
  {
   "cell_type": "code",
   "execution_count": 46,
   "metadata": {},
   "outputs": [
    {
     "name": "stdout",
     "output_type": "stream",
     "text": [
      "<class 'pandas.core.frame.DataFrame'>\n",
      "RangeIndex: 1309 entries, 0 to 1308\n",
      "Data columns (total 26 columns):\n",
      " #   Column         Non-Null Count  Dtype  \n",
      "---  ------         --------------  -----  \n",
      " 0   Survived       1309 non-null   float64\n",
      " 1   Pclass         1309 non-null   int64  \n",
      " 2   Age            1309 non-null   float64\n",
      " 3   Fare           1309 non-null   float64\n",
      " 4   Family_label   1309 non-null   float64\n",
      " 5   Ticket_label   1309 non-null   float64\n",
      " 6   Sex_female     1309 non-null   bool   \n",
      " 7   Sex_male       1309 non-null   bool   \n",
      " 8   Embarked_C     1309 non-null   bool   \n",
      " 9   Embarked_Q     1309 non-null   bool   \n",
      " 10  Embarked_S     1309 non-null   bool   \n",
      " 11  Title_Master   1309 non-null   bool   \n",
      " 12  Title_Miss     1309 non-null   bool   \n",
      " 13  Title_Mr       1309 non-null   bool   \n",
      " 14  Title_Mrs      1309 non-null   bool   \n",
      " 15  Title_Officer  1309 non-null   bool   \n",
      " 16  Title_Royalty  1309 non-null   bool   \n",
      " 17  Cabin_label_A  1309 non-null   bool   \n",
      " 18  Cabin_label_B  1309 non-null   bool   \n",
      " 19  Cabin_label_C  1309 non-null   bool   \n",
      " 20  Cabin_label_D  1309 non-null   bool   \n",
      " 21  Cabin_label_E  1309 non-null   bool   \n",
      " 22  Cabin_label_F  1309 non-null   bool   \n",
      " 23  Cabin_label_G  1309 non-null   bool   \n",
      " 24  Cabin_label_T  1309 non-null   bool   \n",
      " 25  Cabin_label_U  1309 non-null   bool   \n",
      "dtypes: bool(20), float64(5), int64(1)\n",
      "memory usage: 87.1 KB\n"
     ]
    }
   ],
   "source": [
    "# dfのSurvivedがnullだったら、predictionsの該当箇所を入力\n",
    "df.loc[df['Survived'].isnull(), 'Survived'] = predictions\n",
    "df.info()"
   ]
  },
  {
   "cell_type": "code",
   "execution_count": null,
   "metadata": {},
   "outputs": [],
   "source": [
    "df.iloc[891:].to_csv(\"submission.csv\", index=False)"
   ]
  }
 ],
 "metadata": {
  "kernelspec": {
   "display_name": "Python 3",
   "language": "python",
   "name": "python3"
  },
  "language_info": {
   "codemirror_mode": {
    "name": "ipython",
    "version": 3
   },
   "file_extension": ".py",
   "mimetype": "text/x-python",
   "name": "python",
   "nbconvert_exporter": "python",
   "pygments_lexer": "ipython3",
   "version": "3.12.5"
  }
 },
 "nbformat": 4,
 "nbformat_minor": 2
}
